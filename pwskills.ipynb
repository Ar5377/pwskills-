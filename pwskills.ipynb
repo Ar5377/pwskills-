{
  "nbformat": 4,
  "nbformat_minor": 0,
  "metadata": {
    "colab": {
      "provenance": []
    },
    "kernelspec": {
      "name": "python3",
      "display_name": "Python 3"
    },
    "language_info": {
      "name": "python"
    }
  },
  "cells": [
    {
      "cell_type": "code",
      "execution_count": null,
      "metadata": {
        "id": "PRPWRUFjFe0H"
      },
      "outputs": [],
      "source": []
    },
    {
      "cell_type": "markdown",
      "source": [
        "# Functions"
      ],
      "metadata": {
        "id": "r6zmn4goF0wj"
      }
    },
    {
      "cell_type": "code",
      "source": [],
      "metadata": {
        "id": "8KTxbtntF0bD"
      },
      "execution_count": null,
      "outputs": []
    },
    {
      "cell_type": "markdown",
      "source": [
        "1 what is the paythone\n",
        "  - phythone is the great lagunage this use avery languge\n",
        "  \n",
        "2 hello sir kaese hai app\n",
        "- ham achhce hai app kaese hai\n"
      ],
      "metadata": {
        "id": "qWUh0_syGKBW"
      }
    },
    {
      "cell_type": "markdown",
      "source": [],
      "metadata": {
        "id": "7yyTRnd_GFiI"
      }
    },
    {
      "cell_type": "code",
      "source": [
        "...\n",
        "ARVIND\n",
        "..."
      ],
      "metadata": {
        "id": "K9U8qwzNG_sy"
      },
      "execution_count": null,
      "outputs": []
    },
    {
      "cell_type": "markdown",
      "source": [
        "\"\"\"\n",
        "Arvind\n",
        "\"\"\""
      ],
      "metadata": {
        "id": "p6ha1cFtFoaU"
      }
    }
  ]
}